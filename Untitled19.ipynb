{
  "nbformat": 4,
  "nbformat_minor": 0,
  "metadata": {
    "colab": {
      "name": "Untitled19.ipynb",
      "provenance": [],
      "collapsed_sections": [],
      "authorship_tag": "ABX9TyNdU5JbciNsHYj+MobtXz20",
      "include_colab_link": true
    },
    "kernelspec": {
      "name": "python3",
      "display_name": "Python 3"
    },
    "language_info": {
      "name": "python"
    }
  },
  "cells": [
    {
      "cell_type": "markdown",
      "metadata": {
        "id": "view-in-github",
        "colab_type": "text"
      },
      "source": [
        "<a href=\"https://colab.research.google.com/github/gauravkumar1582568/Assignment1/blob/main/Untitled19.ipynb\" target=\"_parent\"><img src=\"https://colab.research.google.com/assets/colab-badge.svg\" alt=\"Open In Colab\"/></a>"
      ]
    },
    {
      "cell_type": "code",
      "metadata": {
        "id": "GEb8R2bA8-ee"
      },
      "source": [
        "import math\n",
        "# to check the given coordinates are in parallelogram or not.\n",
        "a=int(input(\"enter first coordinate\"))\n",
        "p1=a.split(\",\")\n",
        "b=int(input(\"enter second coordinate\"))\n",
        "p2=b.split(\",\")\n",
        "c=int(input(\"enter third coordinate\"))\n",
        "p3=c.split(\",\")\n",
        "d=int(input(\"enter fourth coordinate\"))\n",
        "p4=d.split(\",\")\n",
        "t1=p4[1]-p1[1]\n",
        "t2=p4[0]-p1[0]\n",
        "t3=p3[1]-p2[1]\n",
        "t4=p3[0]-p2[0]\n",
        "if((t1/t2)==(t3/t2)):         \n",
        " print(\"given points are in parallelogram\")\n",
        "else:\n",
        "   print(\"given points are not in parallelogram\")\n"
      ],
      "execution_count": null,
      "outputs": []
    }
  ]
}